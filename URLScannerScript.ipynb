{
  "nbformat": 4,
  "nbformat_minor": 0,
  "metadata": {
    "colab": {
      "provenance": []
    },
    "kernelspec": {
      "name": "python3",
      "display_name": "Python 3"
    },
    "language_info": {
      "name": "python"
    }
  },
  "cells": [
    {
      "cell_type": "markdown",
      "source": [
        "# URL Scanner Script - Gad Azriel\n",
        "## Automation script that interacts with cybersecurity-related APIs (VirusTotal)"
      ],
      "metadata": {
        "id": "xwdO9Lihwgtk"
      }
    },
    {
      "cell_type": "markdown",
      "source": [
        "## Program Description\n",
        "This program scans URLs using the VirusTotal API.\n",
        "It retrieves the scan results, analyzes the data, generates a text report and a pie chart summarizing the detection results, and finally compresses the files into a password-protected ZIP file.\n",
        "\n"
      ],
      "metadata": {
        "id": "3BCgtijCbMOY"
      }
    },
    {
      "cell_type": "code",
      "source": [
        "%%capture\n",
        "!pip install requests validators matplotlib pyminizip"
      ],
      "metadata": {
        "id": "wRm670oswtXW"
      },
      "execution_count": null,
      "outputs": []
    },
    {
      "cell_type": "markdown",
      "source": [
        "### Import Required Libraries\n",
        "\n",
        "In this cell, we import all the necessary libraries used in the program:\n",
        "\n",
        "- `requests`: For sending HTTP requests to interact with the VirusTotal API.\n",
        "- `validators`: For validating the URLs entered by the user.\n",
        "- `matplotlib.pyplot`: For creating visualizations, such as the pie chart summarizing the scan results.\n",
        "- `pyminizip`: For compressing and password-protecting the generated files.\n",
        "- `os`: For handling file operations, such as checking if files exist and removing them.\n"
      ],
      "metadata": {
        "id": "ZmdptK81bxVo"
      }
    },
    {
      "cell_type": "code",
      "execution_count": null,
      "metadata": {
        "id": "lzyLmDgFbLfp"
      },
      "outputs": [],
      "source": [
        "import requests\n",
        "import validators\n",
        "import matplotlib.pyplot as plt\n",
        "import pyminizip\n",
        "import os"
      ]
    },
    {
      "cell_type": "markdown",
      "source": [
        "## Detailed Function Explanations"
      ],
      "metadata": {
        "id": "3G3haZ9TyYJq"
      }
    },
    {
      "cell_type": "markdown",
      "source": [
        "### `checkAPI()`\n",
        "This function validates the VirusTotal API key.\n",
        "- Prompts the user to enter an API key.\n",
        "- Sends a GET request to the VirusTotal API with the Google URL (https://google.com) to check if the key is valid.\n",
        "- If the key is valid (status = 200), the function returns the key.\n",
        "- If the key is not valid, it prompts the user to enter a new key by recursively calling itself.\n",
        "- If an exception occurs, the function prints the exception and prompts for a new key.\n",
        "\n",
        "For example, you can use the API key provided to me, and it is:\n",
        "02130d00ab89cd38a614f60a7f7a81625c0b40317f286992d20fb657a311f8e3"
      ],
      "metadata": {
        "id": "tI4lAbVobk6y"
      }
    },
    {
      "cell_type": "code",
      "source": [
        "def checkAPI():\n",
        "    try:\n",
        "        apiKey = input(\"Enter your VirusTotal API key: \")\n",
        "        url = 'https://www.virustotal.com/vtapi/v2/url/report'\n",
        "        params = {'apikey': apiKey, 'resource': \"https://google.com\"}\n",
        "        response = requests.get(url, params=params)\n",
        "        if response.status_code == 200: ## If the response status is 200 so the API key is valid\n",
        "            return apiKey\n",
        "        else:\n",
        "            print(\"That API key does not seem to be valid, please try again.\")\n",
        "            return checkAPI()\n",
        "    except Exception as e:\n",
        "        print(\"An error occurred:\", e)\n",
        "        return checkAPI()"
      ],
      "metadata": {
        "id": "tFXIJr1McBZx"
      },
      "execution_count": null,
      "outputs": []
    },
    {
      "cell_type": "markdown",
      "source": [
        "### `checkURL()`\n",
        "This function validates the URL entered by the user for scanning.\n",
        "- Prompts the user to enter a URL.\n",
        "- Checks if the URL is valid and reachable.\n",
        "- If the URL is not valid or reachable, it prompts the user to enter a new URL by recursively calling itself.\n",
        "- If an exception occurs, the function prints the exception and prompts for a new URL.\n",
        "\n",
        "You can check any URL you want.\n",
        "Example URL: https://www.facebook.com/\n"
      ],
      "metadata": {
        "id": "g_InjK7TcHFa"
      }
    },
    {
      "cell_type": "code",
      "source": [
        "def checkURL():\n",
        "    try:\n",
        "        urlInput = input(\"Enter a URL to scan: \")\n",
        "        if not urlInput.startswith(\"http\"):\n",
        "            urlInput = \"http://\" + urlInput # Add 'http://' if not present\n",
        "        if validators.url(urlInput):  # Validate the URL\n",
        "            try:\n",
        "                response = requests.get(urlInput)\n",
        "                if response.status_code == 200:\n",
        "                    return urlInput # Return the URL if reachable\n",
        "                else:\n",
        "                    print(\"The URL is not reachable, please try again.\")\n",
        "                    return checkURL()\n",
        "            except:\n",
        "                print(\"The URL is not reachable, please try again.\")\n",
        "                return checkURL()\n",
        "        else:\n",
        "            print(\"Invalid URL, please try again.\")\n",
        "            return checkURL()\n",
        "    except Exception as e:\n",
        "        print(\"An error occurred:\", e)\n",
        "        return checkURL()"
      ],
      "metadata": {
        "id": "6mofJ_M4cM5b"
      },
      "execution_count": null,
      "outputs": []
    },
    {
      "cell_type": "markdown",
      "source": [
        "### `performScan(urlInput, apiKey)`\n",
        "This function performs a scan on the URL using the VirusTotal API.\n",
        "- Sends a POST request with the URL and the API key to the VirusTotal API.\n",
        "- Returns the scan ID.\n"
      ],
      "metadata": {
        "id": "uAB4b64XcQ8z"
      }
    },
    {
      "cell_type": "code",
      "source": [
        "def performScan(urlInput, apiKey):\n",
        "    url = 'https://www.virustotal.com/vtapi/v2/url/scan'\n",
        "    params = {'apikey': apiKey, 'url': urlInput}\n",
        "    response = requests.post(url, data=params)\n",
        "    id = response.json().get('scan_id')\n",
        "    return id"
      ],
      "metadata": {
        "id": "CveQLyAScVaQ"
      },
      "execution_count": null,
      "outputs": []
    },
    {
      "cell_type": "markdown",
      "source": [
        "### `report(id, apiKey)`\n",
        "This function retrieves the scan report from VirusTotal using the scan ID.\n",
        "- Sends a GET request with the scan ID and the API key to the VirusTotal API.\n",
        "- Returns the data in JSON format.\n"
      ],
      "metadata": {
        "id": "RdRgBQhEcZR1"
      }
    },
    {
      "cell_type": "code",
      "source": [
        "def report(id, apiKey):\n",
        "    url = 'https://www.virustotal.com/vtapi/v2/url/report'\n",
        "    params = {'apikey': apiKey, 'resource': id}\n",
        "    response = requests.get(url, params=params)\n",
        "    data = response.json() # Convert the response to JSON format\n",
        "    return data"
      ],
      "metadata": {
        "id": "hGJjrubvcbR5"
      },
      "execution_count": null,
      "outputs": []
    },
    {
      "cell_type": "markdown",
      "source": [
        "#### `analyze_data(data, urlInput)`\n",
        "This function analyzes the scan data and generates insights.\n",
        "- Identifies the number of positive detections, total scans, and the scan date.\n",
        "- Identifies engines that detected the URL as malicious or safe.\n",
        "- Generates a report and calls `report_export` to save the results."
      ],
      "metadata": {
        "id": "AHNWy_TqceQW"
      }
    },
    {
      "cell_type": "code",
      "source": [
        "def analyze_data(data,urlInput):\n",
        "    positives = data.get('positives', 0) #If the \"positives\" key doesn't exist in the data dictionary, it assigns the default value 0 to the positives variable.\n",
        "    total = data.get('total', 0)\n",
        "    scan_date = data.get('scan_date', '--')\n",
        "    scans = data.get('scans', {})\n",
        "\n",
        "    # Analysis for potential threats and anomalies\n",
        "    suspicious_engines = []\n",
        "    safe_engines = []\n",
        "    for engine, result in scans.items():\n",
        "        if result['detected']:\n",
        "            suspicious_engines.append(engine) #Engines that detected threats\n",
        "        else:\n",
        "            safe_engines.append(engine)\n",
        "    report_export(scan_date, positives, total, suspicious_engines, scans,urlInput)\n"
      ],
      "metadata": {
        "id": "niQ3SMnrcoZx"
      },
      "execution_count": null,
      "outputs": []
    },
    {
      "cell_type": "markdown",
      "source": [
        "### `report_export(scan_date, positives, total, suspicious_engines, scans, urlInput)`\n",
        "This function generates a text report summarizing scan results.\n",
        "- Includes details such as the scan date, number of positive detections, and total scans.\n",
        "- Lists engines that detected the URL as malicious.\n",
        "- Saves the report to a text file.\n",
        "- Calls `generate_report` to create a visual summary."
      ],
      "metadata": {
        "id": "wc-uXE3qzt1W"
      }
    },
    {
      "cell_type": "code",
      "source": [
        "def report_export(scan_date, positives, total, suspicious_engines, scans,urlInput):\n",
        "    reportText = \"Report Summary\\n\"\n",
        "    reportText += f\"URL: {urlInput}\\n\"\n",
        "    reportText += \"==============\\n\"\n",
        "    reportText += f\"Scan Date: {scan_date}\\n\"\n",
        "    reportText += f\"Positives: {positives}/{total} (Detected threats/Total scans)\\n\\n\"\n",
        "    reportText += \"\\nDetailed Scan Results:\\n\"\n",
        "\n",
        "    for engine, result in scans.items():\n",
        "        reportText += f\"    Engine name: {engine}:\\n\"\n",
        "        for key, value in result.items():\n",
        "            reportText += f\"        {key}: {value}\\n\"\n",
        "\n",
        "    reportText += \"\\nAnalysis:\\n\"\n",
        "    if positives > 0:\n",
        "        reportText += \"Potential Threats Detected!\\n\"\n",
        "        reportText += f\"{positives} out of {total} scans detected the URL as malicious.\\n\"\n",
        "        reportText += \"Engines that detected threats:\\n\"\n",
        "        for engine in suspicious_engines:\n",
        "            reportText += f\" - {engine}\\n\"\n",
        "    else:\n",
        "        reportText += \"No threats detected by any engine. The URL appears to be SAFE.\\n\"\n",
        "\n",
        "     # Save report to a file\n",
        "    with open('report.txt', 'w') as file:\n",
        "        file.write(reportText)\n",
        "    generate_report(positives, total,urlInput)"
      ],
      "metadata": {
        "id": "588PVLQlzwjt"
      },
      "execution_count": null,
      "outputs": []
    },
    {
      "cell_type": "markdown",
      "source": [
        "### `generate_report(positives, total, urlInput)`\n",
        "This function generates a pie chart summarizing threat detection results.\n",
        "- Visualizes the proportion of safe scans versus detected threats.\n",
        "- Saves the chart as a PNG image.\n",
        "- Calls `compress_and_protect_files` to secure the generated files."
      ],
      "metadata": {
        "id": "I1AcW0z4z0iO"
      }
    },
    {
      "cell_type": "code",
      "source": [
        "def generate_report(positives, total,urlInput):\n",
        "    if total == 0:\n",
        "        print(\"Error: Total scans is zero, cannot generate report.\")\n",
        "        return\n",
        "    labels = 'Safe', 'Detected Threats'\n",
        "    sizes = [total - positives, positives]\n",
        "    colors = ['green', 'red']\n",
        "    explode = (0, 0.1)  # Explode the 2nd slice (Detected Threats) for emphasis\n",
        "    plt.figure(figsize=(10, 6))      # Create a matplotlib figure\n",
        "    # Generate pie chart\n",
        "    plt.pie(sizes, explode=explode, labels=labels, colors=colors, autopct='%1.1f%%', shadow=True, startangle=140)\n",
        "    plt.axis(\"equal\")   # Set aspect ratio for a circular pie chart\n",
        "    plt.title(f'Threat Detection Summary\\n\\nURL: {urlInput}')\n",
        "    plt.savefig(\"threat_detection_summary.png\")     # Save the chart as a PNG image\n",
        "    print(\"The report was exported successfully\\n\")\n",
        "    compress_and_protect_files()"
      ],
      "metadata": {
        "id": "xInolWlHz3xe"
      },
      "execution_count": null,
      "outputs": []
    },
    {
      "cell_type": "markdown",
      "source": [
        "### `compress_and_protect_files()`\n",
        "This function compresses and password-protects the generated files.\n",
        "- Compresses the text report and pie chart into a password-protected ZIP file.\n",
        "- Deletes the original files after compression.\n"
      ],
      "metadata": {
        "id": "JKz0gRFvdP20"
      }
    },
    {
      "cell_type": "code",
      "source": [
        "def compress_and_protect_files():\n",
        "    input_files = [\"./report.txt\", \"./threat_detection_summary.png\"]   # Relative paths to the files\n",
        "    prefixes = [\"\", \"\"]  # List of empty prefixes\n",
        "    output_zip = \"./output.zip\" # Path for the output zip file\n",
        "    # If the output file exists, remove it\n",
        "    if os.path.exists(output_zip):\n",
        "        os.remove(output_zip)\n",
        "    password = input(\"Enter password for zip file: \")\n",
        "    com_lvl = 5 # Compression level\n",
        "    try:\n",
        "        pyminizip.compress_multiple(input_files, prefixes, output_zip, password, com_lvl) # Compress the files and protect with password\n",
        "        print(\"Files have been compressed and locked with a password.\")\n",
        "    except ValueError as e:\n",
        "        print(f\"An error occurred: {e}\")\n",
        "\n",
        "    # Delete the original files\n",
        "    for file_path in input_files:\n",
        "        if os.path.exists(file_path):\n",
        "            os.remove(file_path)\n",
        "        else:\n",
        "            print(f\"The file {file_path} does not exist.\")\n"
      ],
      "metadata": {
        "id": "f__yWJ73dWoF"
      },
      "execution_count": null,
      "outputs": []
    },
    {
      "cell_type": "markdown",
      "source": [
        "### Main Function\n",
        "The main function that runs the entire process:\n",
        "\n",
        "**For example**, you can use the API key provided to me, and it is: 02130d00ab89cd38a614f60a7f7a81625c0b40317f286992d20fb657a311f8e3\n",
        "\n",
        "You can check any URL you want.\n",
        "**Example URL**: https://www.facebook.com/"
      ],
      "metadata": {
        "id": "6PjK2pcRcsbo"
      }
    },
    {
      "cell_type": "code",
      "source": [
        "apiKey = checkAPI()\n",
        "urlInput = checkURL()\n",
        "id = performScan(urlInput, apiKey)\n",
        "data = report(id, apiKey)\n",
        "analyze_data(data,urlInput)"
      ],
      "metadata": {
        "id": "w95xOQ3zdiUC"
      },
      "execution_count": null,
      "outputs": []
    },
    {
      "cell_type": "markdown",
      "source": [
        "© Gad Azriel"
      ],
      "metadata": {
        "id": "nw6Jqdx-DW_7"
      }
    }
  ]
}